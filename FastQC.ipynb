{
 "cells": [
  {
   "cell_type": "code",
   "execution_count": 215,
   "metadata": {},
   "outputs": [],
   "source": [
    "## Open and Reading Text file containg Symbol and Quality Score\n",
    "ASC = open(\"book11.txt\",'r')\n",
    "ASC_score = ASC.readlines()\n",
    "\n",
    "## Loading and Reading the fastq file \n",
    "fastq_score = open(\"fastq1111.fastq\", 'r')\n",
    "fastq_score_list = fastq_score.readlines()\n",
    "\n",
    "## Selecting fourth line having phred quality score in ASCII symbols. \n",
    "desired_lines = fastq_score_list[3::4]\n",
    "\n",
    "## Selecting on 50 line to avoid much memory\n",
    "desired_lines1 =desired_lines[0:10000]"
   ]
  },
  {
   "cell_type": "code",
   "execution_count": 216,
   "metadata": {},
   "outputs": [],
   "source": [
    "full_score_list = []             \n",
    "\n",
    "for read in desired_lines1:       \n",
    "\n",
    "    score_list = []\n",
    "\n",
    "    read_list = list(read)        # made list of all reads\n",
    "\n",
    "    for x in read_list:           # for each read in the read_list took the score of Corresponding symbol \n",
    "                                  # and repeat it for all the basespresent inthe file\n",
    "        for i in ASC_score:\n",
    "            if x == i.strip().split()[1]:\n",
    "\n",
    "                score_list.append(i.strip().split()[0])\n",
    "\n",
    "    full_score_list.append(score_list)    # stored all the base score of the file in the list\n",
    "                            "
   ]
  },
  {
   "cell_type": "code",
   "execution_count": 217,
   "metadata": {},
   "outputs": [],
   "source": [
    "import pandas as pd\n",
    "df = pd.DataFrame({'Per Base': desired_lines1,'Quality Score': full_score_list})"
   ]
  },
  {
   "cell_type": "code",
   "execution_count": 218,
   "metadata": {},
   "outputs": [
    {
     "data": {
      "text/html": [
       "<div>\n",
       "<style scoped>\n",
       "    .dataframe tbody tr th:only-of-type {\n",
       "        vertical-align: middle;\n",
       "    }\n",
       "\n",
       "    .dataframe tbody tr th {\n",
       "        vertical-align: top;\n",
       "    }\n",
       "\n",
       "    .dataframe thead th {\n",
       "        text-align: right;\n",
       "    }\n",
       "</style>\n",
       "<table border=\"1\" class=\"dataframe\">\n",
       "  <thead>\n",
       "    <tr style=\"text-align: right;\">\n",
       "      <th></th>\n",
       "      <th>Per Base</th>\n",
       "      <th>Quality Score</th>\n",
       "    </tr>\n",
       "  </thead>\n",
       "  <tbody>\n",
       "    <tr>\n",
       "      <th>0</th>\n",
       "      <td>-6A@@ECFEEEGGGGGGGGGGGGGG?FGGGGGGDFDGDEDGEAFCC...</td>\n",
       "      <td>[12, 21, 32, 31, 31, 36, 34, 37, 36, 36, 36, 3...</td>\n",
       "    </tr>\n",
       "    <tr>\n",
       "      <th>1</th>\n",
       "      <td>-ABCCEDCCCFGGGGGGGGGGGGGFFGGFGGGCEFGDDFDDCFD8F...</td>\n",
       "      <td>[12, 32, 33, 34, 34, 36, 35, 34, 34, 34, 37, 3...</td>\n",
       "    </tr>\n",
       "    <tr>\n",
       "      <th>2</th>\n",
       "      <td>-6ACC&lt;8ACEGGGGGGGCFGGGFEGGF8E&lt;FFFGG8@@&lt;CDGDC8C...</td>\n",
       "      <td>[12, 21, 32, 34, 34, 27, 23, 32, 34, 36, 38, 3...</td>\n",
       "    </tr>\n",
       "    <tr>\n",
       "      <th>3</th>\n",
       "      <td>A-A@CFFGGGGGGGGGGGGGGGGGGGGGGGGGGGGGGGFGGGGGGG...</td>\n",
       "      <td>[32, 12, 32, 31, 34, 37, 37, 38, 38, 38, 38, 3...</td>\n",
       "    </tr>\n",
       "    <tr>\n",
       "      <th>4</th>\n",
       "      <td>-ACCCCAAFGFGCFGGGGGGGCGFF8CFGGGGGGDFFFCEFEFECF...</td>\n",
       "      <td>[12, 32, 34, 34, 34, 34, 32, 32, 37, 38, 37, 3...</td>\n",
       "    </tr>\n",
       "  </tbody>\n",
       "</table>\n",
       "</div>"
      ],
      "text/plain": [
       "                                            Per Base  \\\n",
       "0  -6A@@ECFEEEGGGGGGGGGGGGGG?FGGGGGGDFDGDEDGEAFCC...   \n",
       "1  -ABCCEDCCCFGGGGGGGGGGGGGFFGGFGGGCEFGDDFDDCFD8F...   \n",
       "2  -6ACC<8ACEGGGGGGGCFGGGFEGGF8E<FFFGG8@@<CDGDC8C...   \n",
       "3  A-A@CFFGGGGGGGGGGGGGGGGGGGGGGGGGGGGGGGFGGGGGGG...   \n",
       "4  -ACCCCAAFGFGCFGGGGGGGCGFF8CFGGGGGGDFFFCEFEFECF...   \n",
       "\n",
       "                                       Quality Score  \n",
       "0  [12, 21, 32, 31, 31, 36, 34, 37, 36, 36, 36, 3...  \n",
       "1  [12, 32, 33, 34, 34, 36, 35, 34, 34, 34, 37, 3...  \n",
       "2  [12, 21, 32, 34, 34, 27, 23, 32, 34, 36, 38, 3...  \n",
       "3  [32, 12, 32, 31, 34, 37, 37, 38, 38, 38, 38, 3...  \n",
       "4  [12, 32, 34, 34, 34, 34, 32, 32, 37, 38, 37, 3...  "
      ]
     },
     "execution_count": 218,
     "metadata": {},
     "output_type": "execute_result"
    }
   ],
   "source": [
    "df.head()"
   ]
  },
  {
   "cell_type": "code",
   "execution_count": 219,
   "metadata": {},
   "outputs": [],
   "source": [
    "## Converting each list to Int\n",
    "\n",
    "full_score_list1 =x = [[int(float(j)) for j in i] for i in full_score_list]\n",
    "\n",
    "## Mean of each index of list\n",
    "base_score_mean= [statistics.mean(x) for x in zip(*full_score_list1)]\n",
    "\n",
    "## Rounding each mean Quality score to nearest integer\n",
    "\n",
    "base_score_mean_round = [round(x) for x in base_score_mean]\n"
   ]
  },
  {
   "cell_type": "code",
   "execution_count": 220,
   "metadata": {},
   "outputs": [],
   "source": [
    "## Renaming the coloumn\n",
    "import pandas as pd\n",
    "df1 = pd.DataFrame(base_score_mean_round,columns=['Base_Score'])"
   ]
  },
  {
   "cell_type": "code",
   "execution_count": 221,
   "metadata": {},
   "outputs": [
    {
     "data": {
      "text/html": [
       "<div>\n",
       "<style scoped>\n",
       "    .dataframe tbody tr th:only-of-type {\n",
       "        vertical-align: middle;\n",
       "    }\n",
       "\n",
       "    .dataframe tbody tr th {\n",
       "        vertical-align: top;\n",
       "    }\n",
       "\n",
       "    .dataframe thead th {\n",
       "        text-align: right;\n",
       "    }\n",
       "</style>\n",
       "<table border=\"1\" class=\"dataframe\">\n",
       "  <thead>\n",
       "    <tr style=\"text-align: right;\">\n",
       "      <th></th>\n",
       "      <th>Base_Score</th>\n",
       "    </tr>\n",
       "  </thead>\n",
       "  <tbody>\n",
       "    <tr>\n",
       "      <th>0</th>\n",
       "      <td>34</td>\n",
       "    </tr>\n",
       "    <tr>\n",
       "      <th>1</th>\n",
       "      <td>34</td>\n",
       "    </tr>\n",
       "    <tr>\n",
       "      <th>2</th>\n",
       "      <td>34</td>\n",
       "    </tr>\n",
       "    <tr>\n",
       "      <th>3</th>\n",
       "      <td>34</td>\n",
       "    </tr>\n",
       "    <tr>\n",
       "      <th>4</th>\n",
       "      <td>34</td>\n",
       "    </tr>\n",
       "  </tbody>\n",
       "</table>\n",
       "</div>"
      ],
      "text/plain": [
       "   Base_Score\n",
       "0          34\n",
       "1          34\n",
       "2          34\n",
       "3          34\n",
       "4          34"
      ]
     },
     "execution_count": 221,
     "metadata": {},
     "output_type": "execute_result"
    }
   ],
   "source": [
    "df1.head()"
   ]
  },
  {
   "cell_type": "code",
   "execution_count": 222,
   "metadata": {},
   "outputs": [],
   "source": [
    "df1.insert(0, 'Index', range(0, 0 + len(df1)))"
   ]
  },
  {
   "cell_type": "code",
   "execution_count": 223,
   "metadata": {},
   "outputs": [
    {
     "data": {
      "text/html": [
       "<div>\n",
       "<style scoped>\n",
       "    .dataframe tbody tr th:only-of-type {\n",
       "        vertical-align: middle;\n",
       "    }\n",
       "\n",
       "    .dataframe tbody tr th {\n",
       "        vertical-align: top;\n",
       "    }\n",
       "\n",
       "    .dataframe thead th {\n",
       "        text-align: right;\n",
       "    }\n",
       "</style>\n",
       "<table border=\"1\" class=\"dataframe\">\n",
       "  <thead>\n",
       "    <tr style=\"text-align: right;\">\n",
       "      <th></th>\n",
       "      <th>Index</th>\n",
       "      <th>Base_Score</th>\n",
       "    </tr>\n",
       "  </thead>\n",
       "  <tbody>\n",
       "    <tr>\n",
       "      <th>0</th>\n",
       "      <td>0</td>\n",
       "      <td>34</td>\n",
       "    </tr>\n",
       "    <tr>\n",
       "      <th>1</th>\n",
       "      <td>1</td>\n",
       "      <td>34</td>\n",
       "    </tr>\n",
       "    <tr>\n",
       "      <th>2</th>\n",
       "      <td>2</td>\n",
       "      <td>34</td>\n",
       "    </tr>\n",
       "    <tr>\n",
       "      <th>3</th>\n",
       "      <td>3</td>\n",
       "      <td>34</td>\n",
       "    </tr>\n",
       "    <tr>\n",
       "      <th>4</th>\n",
       "      <td>4</td>\n",
       "      <td>34</td>\n",
       "    </tr>\n",
       "  </tbody>\n",
       "</table>\n",
       "</div>"
      ],
      "text/plain": [
       "   Index  Base_Score\n",
       "0      0          34\n",
       "1      1          34\n",
       "2      2          34\n",
       "3      3          34\n",
       "4      4          34"
      ]
     },
     "execution_count": 223,
     "metadata": {},
     "output_type": "execute_result"
    }
   ],
   "source": [
    "df1.head()"
   ]
  },
  {
   "cell_type": "code",
   "execution_count": 227,
   "metadata": {},
   "outputs": [
    {
     "name": "stdout",
     "output_type": "stream",
     "text": [
      "Median of data-set is : 31 \n",
      "Mean of data-set is : 28.750830564784053 \n"
     ]
    },
    {
     "data": {
      "text/plain": [
       "[<matplotlib.lines.Line2D at 0x2378a76f0f0>]"
      ]
     },
     "execution_count": 227,
     "metadata": {},
     "output_type": "execute_result"
    },
    {
     "data": {
      "image/png": "[encoded data removed]",
      "text/plain": [
       "<Figure size 432x288 with 1 Axes>"
      ]
     },
     "metadata": {
      "needs_background": "light"
     },
     "output_type": "display_data"
    }
   ],
   "source": [
    "import statistics \n",
    "print(\"Median of data-set is : % s \"\n",
    "        % (statistics.median(base_score_mean_round)))   # Calculate median of the per base quality score which is unaffected \n",
    "print(\"Mean of data-set is : % s \"                      # by outliers\n",
    "        % (statistics.mean(base_score_mean_round)))     # Calculation of mean which is affected by outliers.\n",
    "\n",
    "import matplotlib.pyplot as plt\n",
    "x = df1.index                                           # plot for per base quality score as a function of index\n",
    "y =df1.Base_Score\n",
    "plt.title('Base quality')\n",
    "plt.xlabel('index')\n",
    "plt.ylabel('phred')\n",
    "plt.plot(x,y) "
   ]
  },
  {
   "cell_type": "code",
   "execution_count": null,
   "metadata": {},
   "outputs": [],
   "source": []
  }
 ],
 "metadata": {
  "kernelspec": {
   "display_name": "Python 3",
   "language": "python",
   "name": "python3"
  },
  "language_info": {
   "codemirror_mode": {
    "name": "ipython",
    "version": 3
   },
   "file_extension": ".py",
   "mimetype": "text/x-python",
   "name": "python",
   "nbconvert_exporter": "python",
   "pygments_lexer": "ipython3",
   "version": "3.7.3"
  }
 },
 "nbformat": 4,
 "nbformat_minor": 2
}
